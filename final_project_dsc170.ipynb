{
 "cells": [
  {
   "cell_type": "markdown",
   "id": "29f1ee25",
   "metadata": {},
   "source": [
    "# A Casual Analysis of Public Transportation in New York City\n",
    "\n",
    "### Author: Nathaniel del Rosario, A17562063\n",
    "[Rubric](file:///Users/nathaniel.delrosario/Downloads/Project_final_template.pdf)\n",
    "\n",
    "### Introduction, Question(s), & Hypothesis\n",
    "\n",
    "The New York City public transportation is arguably one of the best in North America, providing many different methods such as metro, ride share, and bike as the most common. However, it is not a perfect system, possessing its own set of shortcomings. For example, compared to Tokyo's public transportation infrastructure, NYC's system is not as expansive and under serves more areas compared to Tokyo. Considering such context, the question arises, \"just how under served are parts of New York City in the scope of public transportation?\" and furthermore, are there any effects in other domains due to these under served areas?\n",
    "\n",
    "I hypothesize that there are in fact different factors whose effects that are correlated with some areas being under served specifically by the NYC metro such as these areas being more likely to experience more ride share and bike usage. Upon witnessing any correlation, the next question becomes “is there causation as well?” Answering such uncertainty is the goal of this project.\n",
    "\n",
    "This question is important because it involves using population, ridership, geo-spatial, and tract data to help people not only understand their commute as well as identify potential causality between different events and transportation accessibility. On average people will spend at least an hour commuting to and from work and school, and this is a huge chunk of our day (1/16 if you get a full 8 hours of sleep!) Additionally, public transportation companies can benefit greatly from this analysis as they can modify their strategy to appeal more to commuters and plan where to expand service to those who are under served. Lastly, the average citizen would benefit from this information because it could convince them to take public transportation instead of contributing to the increasing problem of traffic congestion in major metropolitan areas.\n",
    "\n",
    "### Related Work\n",
    "\n",
    "Scarlett T. Jin, Hui Kong & Daniel Z. Sui (2019) Uber, Public Transit, and Urban Transportation Equity: A Case Study in New York City, The Professional Geographer, 71:2, 315-330, DOI: 10.1080/00330124.2018.1531038\n",
    "\n",
    "distribution of Uber services is highly unequal, Correlation analysis \n",
    "shows that there tend to be fewer Uber pickups in low-income areas\n",
    "\n",
    "\n",
    "Tang, J.; Gao, F.; Liu, F.; Zhang, W.; Qi, Y. Understanding Spatio-Temporal Characteristics of Urban Travel Demand Based on the Combination of GWR and GLM. Sustainability 2019, 11, 5525. https://doi.org/10.3390/su11195525\n",
    "\n",
    "\n",
    "results suggest that most taxi trips are concentrated in a fraction of the geographical area. Variables including road density, subway accessibility, Uber vehicle, point of interests (POIs), commercial area, taxi-related accident and commuting time have significant effects on travel demand,\n",
    "\n",
    "### Packages & Libraries\n",
    "\n",
    "The packages and libraries used for our analysis are ArcGIS Online (including all ArcGIS features and analysis functions, Python, GeoPandas, shapely Point geometry)\n",
    "\n",
    "### Data Sources"
   ]
  },
  {
   "cell_type": "code",
   "execution_count": null,
   "id": "fbf93cb6",
   "metadata": {},
   "outputs": [],
   "source": [
    "import pandas as pd\n",
    "import numpy as np\n",
    "import geopandas as gpd\n",
    "import matplotlib.pyplot as plt\n",
    "from shapely.geometry import Point\n",
    "\n",
    "import arcgis\n",
    "from arcgis.gis import GIS\n",
    "from arcgis import geometry\n",
    "from arcgis.features import GeoAccessor, GeoSeriesAccessor, FeatureLayerCollection, FeatureSet, FeatureCollection, FeatureLayer\n",
    "from arcgis.features.use_proximity import create_buffers\n",
    "from IPython.display import display\n",
    "import os\n",
    "\n",
    "gis = GIS(\"https://ucsdonline.maps.arcgis.com/home/index.html\", \"dsc170wi24_\", \"\")"
   ]
  },
  {
   "cell_type": "code",
   "execution_count": null,
   "id": "0e526af4",
   "metadata": {},
   "outputs": [],
   "source": [
    "m = gis.map('New York, NY')"
   ]
  },
  {
   "cell_type": "code",
   "execution_count": null,
   "id": "4093c788",
   "metadata": {
    "scrolled": true
   },
   "outputs": [],
   "source": [
    "# get transport feature layers\n",
    "metro_stops_fl = gis.content.get('d52e004c3bda4397ae2145257ede1200')\n",
    "rideshare_fl = gis.content.get('072e86100593482887a99aaaac8b2ada')\n",
    "bike_lanes_fl = gis.content.get('8aff6fb97ef546679e97b1696bfbf052')\n",
    "bike_lane_low_income_intersect_fl = gis.content.get('dc2e07a9af82464e94318c7dc71fc084')\n",
    "bike_station_low_income_intersect_fl = gis.content.get('f0679d1e4ca44350abed2a48eecb7eb9')\n",
    "\n",
    "# get income layers\n",
    "low_income_binary_fl = gis.content.get('9bb695ac4b874286ab6645e4196f19bb')\n",
    "income_dist_fl = gis.content.get('00847778292e466082388a18230f41ba')\n",
    "gentrification_fl = gis.content.get('f8f47e4166d34862a6d340d8e2dcb55f')\n",
    "\n",
    "m.add_layer(metro_stops_fl)\n",
    "m.add_layer(rideshare_fl)\n",
    "m.add_layer(bike_lanes_fl)\n",
    "m"
   ]
  },
  {
   "cell_type": "code",
   "execution_count": null,
   "id": "920dc5b9",
   "metadata": {},
   "outputs": [],
   "source": [
    "# append to each feature service: /0/query?where=1%3D1&outFields=*&f=geojson\n",
    "# Income: https://services1.arcgis.com/HmwnYiJTBZ4UkySc/arcgis/rest/services/NYCMedianIncomeDistributions_WFL1/FeatureServer/0/query?where=1%3D1&outFields=*&f=geojson\n",
    "# The rest are uploaded to github.com/natdosan/dsc170finalproj"
   ]
  },
  {
   "cell_type": "code",
   "execution_count": null,
   "id": "702f13f0",
   "metadata": {},
   "outputs": [],
   "source": [
    "# Load Data into GeoDataFames"
   ]
  },
  {
   "cell_type": "markdown",
   "id": "bb38ef6e",
   "metadata": {},
   "source": [
    "### Analysis\n",
    "\n",
    "First we define public transportation as metro, bike, and uber. Walking and driving are non-public transporation. Keep this in mind as we go further with each analysis step"
   ]
  },
  {
   "cell_type": "code",
   "execution_count": null,
   "id": "730c20b3",
   "metadata": {},
   "outputs": [],
   "source": [
    "# Create Rideshare Choropleth"
   ]
  },
  {
   "cell_type": "code",
   "execution_count": null,
   "id": "b09adc00",
   "metadata": {},
   "outputs": [],
   "source": [
    "# Look at Metro, Bike, Rideshare Intersections -> Create Buffers for each"
   ]
  },
  {
   "cell_type": "code",
   "execution_count": null,
   "id": "49710380",
   "metadata": {},
   "outputs": [],
   "source": [
    "# Look at income vs these intersections, (income vs metro, income vs bike, income vs rideshare)\n",
    "# Do there apppear to be any correlation"
   ]
  },
  {
   "cell_type": "code",
   "execution_count": null,
   "id": "5c6de613",
   "metadata": {},
   "outputs": [],
   "source": [
    "# Design Score / Metric for each Greater NYC adminstrative boundary \n",
    "# Low values point to lower income / lower accessibility / farther distance from metro, bike, uber buffers "
   ]
  },
  {
   "cell_type": "code",
   "execution_count": null,
   "id": "8965025b",
   "metadata": {},
   "outputs": [],
   "source": [
    "# Finally, Choropleth of Score by Administrative Boundary"
   ]
  },
  {
   "cell_type": "code",
   "execution_count": null,
   "id": "79fc02e8",
   "metadata": {},
   "outputs": [],
   "source": [
    "# If time: regression to predict score"
   ]
  },
  {
   "cell_type": "markdown",
   "id": "f93908b0",
   "metadata": {},
   "source": [
    "### Summary & Results"
   ]
  },
  {
   "cell_type": "markdown",
   "id": "29866719",
   "metadata": {},
   "source": [
    "### Discussion"
   ]
  },
  {
   "cell_type": "markdown",
   "id": "ad4f3631",
   "metadata": {},
   "source": [
    "### Conclusions & Future Work"
   ]
  }
 ],
 "metadata": {
  "kernelspec": {
   "display_name": "Python 3 (ipykernel)",
   "language": "python",
   "name": "python3"
  },
  "language_info": {
   "codemirror_mode": {
    "name": "ipython",
    "version": 3
   },
   "file_extension": ".py",
   "mimetype": "text/x-python",
   "name": "python",
   "nbconvert_exporter": "python",
   "pygments_lexer": "ipython3",
   "version": "3.9.5"
  }
 },
 "nbformat": 4,
 "nbformat_minor": 5
}
