{
 "cells": [
  {
   "cell_type": "markdown",
   "id": "29f1ee25",
   "metadata": {},
   "source": [
    "# A Casual Analysis of Public Transportation in New York City\n",
    "\n",
    "### Author: Nathaniel del Rosario, A17562063\n",
    "[Rubric](file:///Users/nathaniel.delrosario/Downloads/Project_final_template.pdf)\n",
    "\n",
    "### Introduction, Question(s), & Hypothesis\n",
    "\n",
    "### Related Work\n",
    "\n",
    "### Packages & Libraries\n",
    "\n",
    "### Data Sources"
   ]
  },
  {
   "cell_type": "code",
   "execution_count": 1,
   "id": "fbf93cb6",
   "metadata": {},
   "outputs": [],
   "source": [
    "import pandas as pd\n",
    "import numpy as np\n",
    "import geopandas as gpd\n",
    "import matplotlib.pyplot as plt\n",
    "from shapely.geometry import Point\n",
    "\n",
    "\n",
    "import arcgis\n",
    "from arcgis.gis import GIS\n",
    "from arcgis import geometry\n",
    "from arcgis.features import GeoAccessor, GeoSeriesAccessor, FeatureLayerCollection, FeatureSet, FeatureCollection, FeatureLayer\n",
    "from arcgis.features.use_proximity import create_buffers\n",
    "from IPython.display import display\n",
    "import os\n",
    "\n",
    "gis = GIS(\"https://ucsdonline.maps.arcgis.com/home/index.html\", \"dsc170wi24_8\", \"NDRCZBH@499!\")"
   ]
  },
  {
   "cell_type": "code",
   "execution_count": 2,
   "id": "0e526af4",
   "metadata": {},
   "outputs": [],
   "source": [
    "m = gis.map('New York, NY')"
   ]
  },
  {
   "cell_type": "code",
   "execution_count": 3,
   "id": "4093c788",
   "metadata": {},
   "outputs": [
    {
     "data": {
      "application/vnd.jupyter.widget-view+json": {
       "model_id": "bf586e4b182f4e9c8ae86735a8f68b8b",
       "version_major": 2,
       "version_minor": 0
      },
      "text/plain": [
       "MapView(layout=Layout(height='400px', width='100%'))"
      ]
     },
     "metadata": {},
     "output_type": "display_data"
    },
    {
     "data": {
      "text/html": [
       "<div class=\"map-static-img-preview-f33bd7a4-a3b5-4aee-ab82-83f922f31b0b\"><img src=\"\"></img></div>"
      ],
      "text/plain": [
       "<IPython.core.display.HTML object>"
      ]
     },
     "metadata": {},
     "output_type": "display_data"
    },
    {
     "data": {
      "text/html": [
       "<div class=\"map-html-embed-preview-f33bd7a4-a3b5-4aee-ab82-83f922f31b0b\"></div>"
      ],
      "text/plain": [
       "<IPython.core.display.HTML object>"
      ]
     },
     "metadata": {},
     "output_type": "display_data"
    }
   ],
   "source": [
    "# get metro, bike stops, rideshare\n",
    "metro_stops_fl = gis.content.get('d52e004c3bda4397ae2145257ede1200')\n",
    "rideshare_fl = gis.content.get('072e86100593482887a99aaaac8b2ada')\n",
    "bike_lanes_fl = gis.content.get('8aff6fb97ef546679e97b1696bfbf052')\n",
    "\n",
    "m.add_layer(metro_stops_fl)\n",
    "m.add_layer(rideshare_fl)\n",
    "m.add_layer(bike_lanes_fl)\n",
    "m"
   ]
  },
  {
   "cell_type": "code",
   "execution_count": null,
   "id": "fa34d084",
   "metadata": {},
   "outputs": [],
   "source": []
  },
  {
   "cell_type": "markdown",
   "id": "f93908b0",
   "metadata": {},
   "source": [
    "### Summary & Results"
   ]
  },
  {
   "cell_type": "markdown",
   "id": "29866719",
   "metadata": {},
   "source": [
    "### Discussion"
   ]
  },
  {
   "cell_type": "markdown",
   "id": "ad4f3631",
   "metadata": {},
   "source": [
    "### Conclusions & Future Work"
   ]
  }
 ],
 "metadata": {
  "kernelspec": {
   "display_name": "Python 3 (ipykernel)",
   "language": "python",
   "name": "python3"
  },
  "language_info": {
   "codemirror_mode": {
    "name": "ipython",
    "version": 3
   },
   "file_extension": ".py",
   "mimetype": "text/x-python",
   "name": "python",
   "nbconvert_exporter": "python",
   "pygments_lexer": "ipython3",
   "version": "3.9.5"
  }
 },
 "nbformat": 4,
 "nbformat_minor": 5
}
